{
 "cells": [
  {
   "cell_type": "markdown",
   "metadata": {
    "collapsed": true
   },
   "source": [
    "# 가위바위보 게임"
   ]
  },
  {
   "cell_type": "markdown",
   "metadata": {},
   "source": [
    "가위 가위 0 draw\n",
    "가위 바위 -1 lose\n",
    "가위 보 -2 win\n",
    "\n",
    "바위 가위 1 win\n",
    "바위 바위 0 drarw\n",
    "바위 보 -1 lose\n",
    "\n",
    "보 가위 2 lose\n",
    "보 바위 1 win\n",
    "보 보 0 draw\n",
    "\n",
    "0이면 바로 비긴다\n",
    "음수는 3을 더한다\n",
    "1은 바로 이긴다\n",
    "2는 바로 진다"
   ]
  },
  {
   "cell_type": "code",
   "execution_count": 8,
   "metadata": {
    "collapsed": true
   },
   "outputs": [],
   "source": [
    "import random as rd"
   ]
  },
  {
   "cell_type": "code",
   "execution_count": 20,
   "metadata": {},
   "outputs": [
    {
     "name": "stdout",
     "output_type": "stream",
     "text": [
      "가위바위보! 골라보세요: 바위\n",
      "컴퓨터는 보를 냈습니다.\n",
      "you lose!\n"
     ]
    }
   ],
   "source": [
    "rcp = [\"가위\", \"바위\", \"보\"]\n",
    "index = rd.randint(0, 2)\n",
    "\n",
    "com_key = rcp[index]\n",
    "you_key = input(\"가위바위보! 골라보세요: \")\n",
    "\n",
    "rcp_dic = {\"가위\":1, \"바위\":2, \"보\":3}\n",
    "\n",
    "result = rcp_dic[you_key] - rcp_dic[com_key]\n",
    "if result < 0:\n",
    "    result += 3\n",
    "\n",
    "print(\"컴퓨터는 {}를 냈습니다.\".format(com_key))\n",
    "\n",
    "if result == 0:\n",
    "    print(\"draw!\")\n",
    "elif result == 1:\n",
    "    print(\"you win!\")\n",
    "elif result == 2:\n",
    "    print(\"you lose!\")"
   ]
  },
  {
   "cell_type": "markdown",
   "metadata": {},
   "source": [
    "## refactoring\n",
    "- 음수도 나머지가 구해지므로 굳이 +=3 할 필요가 없음.\n",
    "- 딕셔너리 안만들고 index로 대체\n",
    "- 에러 방지 while 추가"
   ]
  },
  {
   "cell_type": "code",
   "execution_count": 40,
   "metadata": {},
   "outputs": [
    {
     "name": "stdout",
     "output_type": "stream",
     "text": [
      "가위바위보! 하나만 내보세요  보\n",
      "\n",
      "win!!\n",
      "com: 바위\n",
      "you: 보\n",
      "\n"
     ]
    }
   ],
   "source": [
    "import random as rd\n",
    "\n",
    "rsp = ['가위', '바위', '보']\n",
    "com = rsp[rd.randint(0,2)]\n",
    "you = input('가위바위보! 하나만 내보세요  ')\n",
    "while you not in rsp:\n",
    "    you = input('똑바로 내주세요! 가위, 바위, 보 중에서 하나만 내주세요  ')\n",
    "\n",
    "sub = rsp.index(you) - rsp.index(com)\n",
    "if sub % 3 == 0:\n",
    "    result = 'draw'\n",
    "elif sub % 3 == 1:\n",
    "    result = 'win'\n",
    "else:\n",
    "    result = 'lose'\n",
    "    \n",
    "print('''\n",
    "{}!!\n",
    "com: {}\n",
    "you: {}\n",
    "'''.format(result, com, you))"
   ]
  }
 ],
 "metadata": {
  "kernelspec": {
   "display_name": "Python 3",
   "language": "python",
   "name": "python3"
  },
  "language_info": {
   "codemirror_mode": {
    "name": "ipython",
    "version": 3
   },
   "file_extension": ".py",
   "mimetype": "text/x-python",
   "name": "python",
   "nbconvert_exporter": "python",
   "pygments_lexer": "ipython3",
   "version": "3.6.1"
  }
 },
 "nbformat": 4,
 "nbformat_minor": 2
}
