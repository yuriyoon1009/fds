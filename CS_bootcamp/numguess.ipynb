{
 "cells": [
  {
   "cell_type": "code",
   "execution_count": 1,
   "metadata": {
    "collapsed": true
   },
   "outputs": [],
   "source": [
    "import random as rd"
   ]
  },
  {
   "cell_type": "code",
   "execution_count": 9,
   "metadata": {},
   "outputs": [
    {
     "name": "stdout",
     "output_type": "stream",
     "text": [
      "1부터 10 중 숫자를 맞춰보세요: 5\n",
      "you lose~\n"
     ]
    }
   ],
   "source": [
    "user_num = int(input('1부터 10 중 숫자를 맞춰보세요: '))\n",
    "answer = rd.randint(1, 10)\n",
    "\n",
    "if user_num == answer:\n",
    "    print('you wian!')\n",
    "else:\n",
    "    print('you lose~')"
   ]
  },
  {
   "cell_type": "code",
   "execution_count": 10,
   "metadata": {},
   "outputs": [
    {
     "name": "stdout",
     "output_type": "stream",
     "text": [
      "what's your name: won\n",
      "won, 1번째 숫자를 맞춰보세요(1~10)5\n",
      "won, 2번째 숫자를 맞춰보세요(1~10)5\n",
      "won, 3번째 숫자를 맞춰보세요(1~10)5\n",
      "won, you lose~(0개 맞춤)\n"
     ]
    }
   ],
   "source": [
    "#refactory using `while`\n",
    "\n",
    "#user_name = input()으로 받고 숫자요청, 승패 알림 시 이름과 함께 프린트\n",
    "\n",
    "name = input(\"what's your name: \")\n",
    "your_list = []\n",
    "comp_list = [rd.randint(1, 10) for i in range(0, 3)]\n",
    "#print(comp_list)\n",
    "for j in range(1,4):\n",
    "    your_num = int(input('{}, {}번째 숫자를 맞춰보세요(1~10)'.format(name,j)))\n",
    "    your_list.append(your_num)\n",
    "#print(your_list)\n",
    "win = 0\n",
    "for k in range(0,3):\n",
    "    if your_list[k] == comp_list[k]:\n",
    "        win += 1\n",
    "    pass\n",
    "#print(win)\n",
    "if win >= 2:\n",
    "    print('{}, you win!({}개 맞춤)'.format(name,win))\n",
    "else:\n",
    "    print('{}, you lose~({}개 맞춤)'.format(name,win))"
   ]
  },
  {
   "cell_type": "markdown",
   "metadata": {
    "collapsed": true
   },
   "source": [
    "# Refactoring 'Guess number'\n",
    "\n",
    "1. 난이도 고르기\n",
    "2. 라운드 수 정하기\n",
    "3. 결과메세지 수정"
   ]
  },
  {
   "cell_type": "code",
   "execution_count": 25,
   "metadata": {
    "scrolled": true
   },
   "outputs": [
    {
     "name": "stdout",
     "output_type": "stream",
     "text": [
      "이름을 입력하면 시작합니다: 김원\n",
      "김원님, Guess number 게임을 시작합니다. 숫자를 고를 횟수를 입력하세요: 3\n",
      "난이도를 입력하세요(상, 중, 하)하\n",
      "1부터 3까지 숫자 중 정답을 맞춰보세요. 1번째 시도: 2\n",
      "1부터 3까지 숫자 중 정답을 맞춰보세요. 2번째 시도: 2\n",
      "1부터 3까지 숫자 중 정답을 맞춰보세요. 3번째 시도: 2\n",
      "1번 맞췄습니다. \n",
      "0.3333333333333333\n"
     ]
    }
   ],
   "source": [
    "name = input(\"이름을 입력하면 시작합니다: \")\n",
    "#몇판 할건지에 따라 rnd에 대입.\n",
    "rnd = int(input(\"{}님, Guess number 게임을 시작합니다. 숫자를 고를 횟수를 입력하세요: \".format(name)))\n",
    "pool = \"상중하\"\n",
    "difficulty = \"난이도초기화\"\n",
    "while pool.find(difficulty) == -1:\n",
    "    difficulty = input(\"난이도를 입력하세요(상, 중, 하)\")\n",
    "#난이도에 따라 숫자를 고르는 범위가 넓어진다.\n",
    "if difficulty == \"상\":\n",
    "    max_num = 10\n",
    "elif difficulty == \"중\":\n",
    "    max_num = 5\n",
    "elif difficulty == \"하\":\n",
    "    max_num = 3\n",
    "\n",
    "wincount = 0\n",
    "for i in range(1, rnd + 1):\n",
    "    answer = rd.randint(1, max_num)\n",
    "    #몇번째 시도인지 알려주면서 숫자를 받아낸다.\n",
    "    number = int(input(\"1부터 {}까지 숫자 중 정답을 맞춰보세요. {}번째 시도: \".format(max_num, i)))\n",
    "    #맞춘 횟수를 알려주기 위해서 정답일 때마다 wincount에 1씩 더한다.\n",
    "    if number == answer:\n",
    "        wincount += 1\n",
    "        #print(wincount)\n",
    "    else:\n",
    "        wincount += 0\n",
    "        #print(wincount)\n",
    "#결과메세지\n",
    "print(\"{}번 맞췄습니다. \".format(wincount))\n",
    "\n",
    "#정답률 > 50%: 반 이상 맞추셨네요 대단하시네요!\n",
    "#else: 반도 못맞추셨네요~\n",
    "print(wincount/rnd)"
   ]
  }
 ],
 "metadata": {
  "kernelspec": {
   "display_name": "Python 3",
   "language": "python",
   "name": "python3"
  },
  "language_info": {
   "codemirror_mode": {
    "name": "ipython",
    "version": 3
   },
   "file_extension": ".py",
   "mimetype": "text/x-python",
   "name": "python",
   "nbconvert_exporter": "python",
   "pygments_lexer": "ipython3",
   "version": "3.6.1"
  }
 },
 "nbformat": 4,
 "nbformat_minor": 2
}
