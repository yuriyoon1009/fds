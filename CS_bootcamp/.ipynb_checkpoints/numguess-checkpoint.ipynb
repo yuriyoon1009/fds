{
 "cells": [
  {
   "cell_type": "code",
   "execution_count": 2,
   "metadata": {},
   "outputs": [
    {
     "name": "stdout",
     "output_type": "stream",
     "text": [
      "1부터 10 중 숫자를 맞춰보세요: 5\n",
      "you lose~\n"
     ]
    }
   ],
   "source": [
    "import random as rd\n",
    "\n",
    "user_num = int(input('1부터 10 중 숫자를 맞춰보세요: '))\n",
    "answer = rd.randint(1, 10)\n",
    "\n",
    "if user_num == answer:\n",
    "    print('you win!')\n",
    "else:\n",
    "    print('you lose~')"
   ]
  },
  {
   "cell_type": "code",
   "execution_count": 8,
   "metadata": {},
   "outputs": [
    {
     "name": "stdout",
     "output_type": "stream",
     "text": [
      "what's your name: won\n",
      "won, 1번째 숫자를 맞춰보세요(1~10)5\n",
      "won, 2번째 숫자를 맞춰보세요(1~10)7\n",
      "won, 3번째 숫자를 맞춰보세요(1~10)3\n",
      "won, you lose~(0개 맞춤)\n"
     ]
    }
   ],
   "source": [
    "#refactory using `while`\n",
    "\n",
    "#user_name = input()으로 받고 숫자요청, 승패 알림 시 이름과 함께 프린트\n",
    "\n",
    "name = input(\"what's your name: \")\n",
    "your_list = []\n",
    "comp_list = [rd.randint(1, 10) for i in range(0, 3)]\n",
    "#print(comp_list)\n",
    "for j in range(1,4):\n",
    "    your_num = int(input('{}, {}번째 숫자를 맞춰보세요(1~10)'.format(name,j)))\n",
    "    your_list.append(your_num)\n",
    "#print(your_list)\n",
    "win = 0\n",
    "for k in range(0,3):\n",
    "    if your_list[k] == comp_list[k]:\n",
    "        win += 1\n",
    "    pass\n",
    "#print(win)\n",
    "if win >= 2:\n",
    "    print('{}, you win!({}개 맞춤)'.format(name,win))\n",
    "else:\n",
    "    print('{}, you lose~({}개 맞춤)'.format(name,win))"
   ]
  },
  {
   "cell_type": "code",
   "execution_count": null,
   "metadata": {
    "collapsed": true
   },
   "outputs": [],
   "source": []
  }
 ],
 "metadata": {
  "kernelspec": {
   "display_name": "Python 3",
   "language": "python",
   "name": "python3"
  },
  "language_info": {
   "codemirror_mode": {
    "name": "ipython",
    "version": 3
   },
   "file_extension": ".py",
   "mimetype": "text/x-python",
   "name": "python",
   "nbconvert_exporter": "python",
   "pygments_lexer": "ipython3",
   "version": "3.6.1"
  }
 },
 "nbformat": 4,
 "nbformat_minor": 2
}
