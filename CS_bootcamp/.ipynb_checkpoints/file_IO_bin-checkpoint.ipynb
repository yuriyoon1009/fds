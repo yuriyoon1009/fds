{
 "cells": [
  {
   "cell_type": "markdown",
   "metadata": {},
   "source": [
    "# pickle"
   ]
  },
  {
   "cell_type": "markdown",
   "metadata": {},
   "source": [
    "## how to import a module\n",
    "1. import\n",
    "`\n",
    "import calc\n",
    "help(calc.add)\n",
    "calc.add(a, b)\n",
    "...\n",
    "`\n",
    "1. from import\n",
    "`\n",
    "from calc import *\n",
    "help(add)\n",
    "add(a, b)\n",
    "...\n",
    "`"
   ]
  },
  {
   "cell_type": "code",
   "execution_count": 1,
   "metadata": {
    "collapsed": true
   },
   "outputs": [],
   "source": [
    "import calc"
   ]
  },
  {
   "cell_type": "code",
   "execution_count": 4,
   "metadata": {},
   "outputs": [
    {
     "name": "stdout",
     "output_type": "stream",
     "text": [
      "Help on module calc:\n",
      "\n",
      "NAME\n",
      "    calc\n",
      "\n",
      "FUNCTIONS\n",
      "    add(a, b)\n",
      "        add(int, int) -> integer\n",
      "        두 수를 더하는 함수입니다.\n",
      "        결과 값은 정수를 반환합니다.\n",
      "    \n",
      "    div(a, b)\n",
      "    \n",
      "    mul(a, b)\n",
      "    \n",
      "    sub(a, b)\n",
      "\n",
      "FILE\n",
      "    /Users/grey/workspace/fds/CS_bootcamp/calc.py\n",
      "\n",
      "\n"
     ]
    }
   ],
   "source": [
    "help(calc)"
   ]
  },
  {
   "cell_type": "code",
   "execution_count": 7,
   "metadata": {},
   "outputs": [
    {
     "name": "stdout",
     "output_type": "stream",
     "text": [
      "Help on function add in module calc:\n",
      "\n",
      "add(a, b)\n",
      "    add(int, int) -> integer\n",
      "    두 수를 더하는 함수입니다.\n",
      "    결과 값은 정수를 반환합니다.\n",
      "\n"
     ]
    }
   ],
   "source": [
    "help(calc.add)"
   ]
  },
  {
   "cell_type": "markdown",
   "metadata": {},
   "source": [
    "## pickle"
   ]
  },
  {
   "cell_type": "code",
   "execution_count": 11,
   "metadata": {
    "collapsed": true
   },
   "outputs": [],
   "source": [
    "import pickle"
   ]
  },
  {
   "cell_type": "code",
   "execution_count": 12,
   "metadata": {
    "collapsed": true
   },
   "outputs": [],
   "source": [
    "f = open('string.txt', 'wt')"
   ]
  },
  {
   "cell_type": "code",
   "execution_count": 13,
   "metadata": {
    "collapsed": true
   },
   "outputs": [],
   "source": [
    "f.close()"
   ]
  },
  {
   "cell_type": "code",
   "execution_count": 14,
   "metadata": {
    "collapsed": true
   },
   "outputs": [],
   "source": [
    "li = []\n",
    "dic1 = {'a' : 97, 'b' : 100}\n",
    "dic2 = {'c' : 55, 'd' : 23}\n",
    "dic3 = {'e' : 69, 'f' : 20}\n",
    "\n",
    "li.append(dic1)\n",
    "li.append(dic2)\n",
    "li.append(dic3)"
   ]
  },
  {
   "cell_type": "code",
   "execution_count": 21,
   "metadata": {},
   "outputs": [],
   "source": [
    "f = open('data.dat', 'wb') #하드-메모리 연결\n",
    "\n",
    "#위에서 만든 `li`의 데이터 형태를 유지하면서 저장해보자.\n",
    "for i in range(len(li)):\n",
    "    pickle.dump(li[i], f)"
   ]
  },
  {
   "cell_type": "code",
   "execution_count": 16,
   "metadata": {
    "scrolled": true
   },
   "outputs": [
    {
     "name": "stdout",
     "output_type": "stream",
     "text": [
      "Help on built-in function dump in module _pickle:\n",
      "\n",
      "dump(obj, file, protocol=None, *, fix_imports=True)\n",
      "    Write a pickled representation of obj to the open file object file.\n",
      "    \n",
      "    This is equivalent to ``Pickler(file, protocol).dump(obj)``, but may\n",
      "    be more efficient.\n",
      "    \n",
      "    The optional *protocol* argument tells the pickler to use the given\n",
      "    protocol supported protocols are 0, 1, 2, 3 and 4.  The default\n",
      "    protocol is 3; a backward-incompatible protocol designed for Python 3.\n",
      "    \n",
      "    Specifying a negative protocol version selects the highest protocol\n",
      "    version supported.  The higher the protocol used, the more recent the\n",
      "    version of Python needed to read the pickle produced.\n",
      "    \n",
      "    The *file* argument must have a write() method that accepts a single\n",
      "    bytes argument.  It can thus be a file object opened for binary\n",
      "    writing, an io.BytesIO instance, or any other custom object that meets\n",
      "    this interface.\n",
      "    \n",
      "    If *fix_imports* is True and protocol is less than 3, pickle will try\n",
      "    to map the new Python 3 names to the old module names used in Python\n",
      "    2, so that the pickle data stream is readable with Python 2.\n",
      "\n"
     ]
    }
   ],
   "source": [
    "help(pickle.dump)"
   ]
  },
  {
   "cell_type": "code",
   "execution_count": 27,
   "metadata": {},
   "outputs": [
    {
     "data": {
      "text/plain": [
       "[{'a': 97, 'b': 100}, {'c': 55, 'd': 23}, {'e': 69, 'f': 20}]"
      ]
     },
     "execution_count": 27,
     "metadata": {},
     "output_type": "execute_result"
    }
   ],
   "source": [
    "f = open('data.dat', 'rb')\n",
    "data = []\n",
    "for i in range(3):\n",
    "    data.append(pickle.load(f))\n",
    "data"
   ]
  },
  {
   "cell_type": "code",
   "execution_count": 23,
   "metadata": {},
   "outputs": [
    {
     "name": "stdout",
     "output_type": "stream",
     "text": [
      "Help on built-in function load in module _pickle:\n",
      "\n",
      "load(file, *, fix_imports=True, encoding='ASCII', errors='strict')\n",
      "    Read and return an object from the pickle data stored in a file.\n",
      "    \n",
      "    This is equivalent to ``Unpickler(file).load()``, but may be more\n",
      "    efficient.\n",
      "    \n",
      "    The protocol version of the pickle is detected automatically, so no\n",
      "    protocol argument is needed.  Bytes past the pickled object's\n",
      "    representation are ignored.\n",
      "    \n",
      "    The argument *file* must have two methods, a read() method that takes\n",
      "    an integer argument, and a readline() method that requires no\n",
      "    arguments.  Both methods should return bytes.  Thus *file* can be a\n",
      "    binary file object opened for reading, an io.BytesIO object, or any\n",
      "    other custom object that meets this interface.\n",
      "    \n",
      "    Optional keyword arguments are *fix_imports*, *encoding* and *errors*,\n",
      "    which are used to control compatibility support for pickle stream\n",
      "    generated by Python 2.  If *fix_imports* is True, pickle will try to\n",
      "    map the old Python 2 names to the new names used in Python 3.  The\n",
      "    *encoding* and *errors* tell pickle how to decode 8-bit string\n",
      "    instances pickled by Python 2; these default to 'ASCII' and 'strict',\n",
      "    respectively.  The *encoding* can be 'bytes' to read these 8-bit\n",
      "    string instances as bytes objects.\n",
      "\n"
     ]
    }
   ],
   "source": [
    "help(pickle.load)"
   ]
  }
 ],
 "metadata": {
  "kernelspec": {
   "display_name": "Python 3",
   "language": "python",
   "name": "python3"
  },
  "language_info": {
   "codemirror_mode": {
    "name": "ipython",
    "version": 3
   },
   "file_extension": ".py",
   "mimetype": "text/x-python",
   "name": "python",
   "nbconvert_exporter": "python",
   "pygments_lexer": "ipython3",
   "version": "3.6.1"
  }
 },
 "nbformat": 4,
 "nbformat_minor": 2
}
