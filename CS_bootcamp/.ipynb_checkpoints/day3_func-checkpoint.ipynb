{
 "cells": [
  {
   "cell_type": "code",
   "execution_count": 5,
   "metadata": {
    "collapsed": true
   },
   "outputs": [],
   "source": [
    "#scope\n",
    "\n",
    "#global var\n",
    "a = 10    #\"정의\" 메모리에 a 할당\n",
    "\n",
    "def func():    #메모리에 func()만 할당하고 내부 변수는 할당하지 않음\n",
    "\n",
    "    #local var\n",
    "    b = 20    #함수가 호출되면 비로소 메모리에 할당됨.\n",
    "\n",
    "    print(a, b)"
   ]
  },
  {
   "cell_type": "code",
   "execution_count": 6,
   "metadata": {
    "scrolled": true
   },
   "outputs": [
    {
     "name": "stdout",
     "output_type": "stream",
     "text": [
      "10 20\n"
     ]
    }
   ],
   "source": [
    "func()    #\"호출\" 하는 순간 func()의 정의로 돌아간다."
   ]
  },
  {
   "cell_type": "code",
   "execution_count": 11,
   "metadata": {
    "collapsed": true
   },
   "outputs": [],
   "source": [
    "def func():    #메모리에 func()만 할당하고 내부 변수는 할당하지 않음\n",
    "\n",
    "    #local var\n",
    "    b = 20    #함수가 호출되면 비로소 메모리에 할당됨.\n",
    "    \n",
    "    #local var\n",
    "    a = 30    #func()만의 독립적 공간에 a를 할당. global var와 이름은 같은데 다른 객체\n",
    "\n",
    "    print(a, b)    #a를 요청받으면 가까운곳(func()공간) 부터 찾기시작."
   ]
  },
  {
   "cell_type": "code",
   "execution_count": 12,
   "metadata": {},
   "outputs": [
    {
     "name": "stdout",
     "output_type": "stream",
     "text": [
      "30 20\n"
     ]
    }
   ],
   "source": [
    "func()    #func() 내부의 a가 바뀌어 결과도 달라진다."
   ]
  },
  {
   "cell_type": "code",
   "execution_count": 13,
   "metadata": {
    "scrolled": true
   },
   "outputs": [
    {
     "data": {
      "text/plain": [
       "10"
      ]
     },
     "execution_count": 13,
     "metadata": {},
     "output_type": "execute_result"
    }
   ],
   "source": [
    "a    #global a의 값은 여전히 10이다."
   ]
  },
  {
   "cell_type": "code",
   "execution_count": 14,
   "metadata": {
    "collapsed": true
   },
   "outputs": [],
   "source": [
    "def func():\n",
    "    #이제부터 나오는 a는 글로벌이라는 선언.\n",
    "    global a\n",
    "    a = 30    #함수 밖 a = 30\n",
    "    b = 20\n",
    "    print(a, b)"
   ]
  },
  {
   "cell_type": "code",
   "execution_count": 15,
   "metadata": {},
   "outputs": [
    {
     "name": "stdout",
     "output_type": "stream",
     "text": [
      "30 20\n"
     ]
    }
   ],
   "source": [
    "func()"
   ]
  },
  {
   "cell_type": "code",
   "execution_count": 16,
   "metadata": {
    "scrolled": true
   },
   "outputs": [
    {
     "data": {
      "text/plain": [
       "30"
      ]
     },
     "execution_count": 16,
     "metadata": {},
     "output_type": "execute_result"
    }
   ],
   "source": [
    "a"
   ]
  },
  {
   "cell_type": "code",
   "execution_count": 17,
   "metadata": {},
   "outputs": [
    {
     "name": "stdout",
     "output_type": "stream",
     "text": [
      "10 20 30\n"
     ]
    }
   ],
   "source": [
    "# 함수 중첩일 때는?\n",
    "\n",
    "#global scope\n",
    "a = 10\n",
    "\n",
    "def f():\n",
    "    #f() scope    \n",
    "    b = 20\n",
    "    #---------\n",
    "    def g():\n",
    "        #g() scope----\n",
    "        c = 30\n",
    "        print(a, b, c)\n",
    "        #-------------\n",
    "    g()\n",
    "f()"
   ]
  },
  {
   "cell_type": "code",
   "execution_count": 27,
   "metadata": {},
   "outputs": [
    {
     "name": "stdout",
     "output_type": "stream",
     "text": [
      "100 50 30\n",
      "b: 50\n"
     ]
    }
   ],
   "source": [
    "#global scope-\n",
    "a = 10\n",
    "#-------------\n",
    "def f():\n",
    "    #f() scope-    \n",
    "    b = 20\n",
    "    #----------\n",
    "    def g():\n",
    "        global a\n",
    "\n",
    "        \n",
    "        a = 100\n",
    "\n",
    "        \n",
    "        #g() scope-----\n",
    "        c = 30\n",
    "        #--------------\n",
    "        def h():\n",
    "            nonlocal b\n",
    "            b = 50\n",
    "            print(a, b, c)\n",
    "        h()    \n",
    "    g()\n",
    "    print(\"b:\", b)\n",
    "f()"
   ]
  }
 ],
 "metadata": {
  "kernelspec": {
   "display_name": "Python 3",
   "language": "python",
   "name": "python3"
  },
  "language_info": {
   "codemirror_mode": {
    "name": "ipython",
    "version": 3
   },
   "file_extension": ".py",
   "mimetype": "text/x-python",
   "name": "python",
   "nbconvert_exporter": "python",
   "pygments_lexer": "ipython3",
   "version": "3.6.1"
  }
 },
 "nbformat": 4,
 "nbformat_minor": 2
}
