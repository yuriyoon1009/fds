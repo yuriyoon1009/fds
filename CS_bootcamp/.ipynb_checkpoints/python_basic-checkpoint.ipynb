{
 "cells": [
  {
   "cell_type": "markdown",
   "metadata": {},
   "source": [
    "# Fastcampus \n",
    "## Python Basic\n",
    "\n",
    "\n",
    "---\n",
    "## Python Basic\n",
    "\n",
    "### Python은? \n",
    "1989년 크리스마스 연휴를 보내던  Guido van Rossum이 만든 고급 프로그래밍 언어\n",
    "\n",
    "### 특징\n",
    "- 인터프리터\n",
    "- 객체지향\n",
    "- 동적타이핑\n",
    "- 엄격한 문법\n",
    "\n",
    "---\n",
    "## Python Basic\n",
    "\n",
    "Python으로 할 수 있는 것들!\n",
    "- System Programming\n",
    "- Web Programming\n",
    "- Data Analysis\n",
    "- ...\n",
    "\n",
    "---\n",
    "## Python Basic\n",
    "\n",
    "### REPL - Read - Eval - Print Loop\n",
    "코드를 입력하면 바로 결과를 확인할 수 있음!!\n",
    "\n",
    "### We'll use python3\n",
    "\n",
    "[difference of 2.x , 3.x](https://wiki.python.org/moin/Python2orPython3)\n",
    "Short version: Python 2.x is legacy, Python 3.x is the present and future of the language\n",
    "\n",
    "---"
   ]
  },
  {
   "cell_type": "markdown",
   "metadata": {},
   "source": [
    "## Hello python!\n",
    "\n",
    "파이썬의 철학\n",
    "\n",
    "```python\n",
    ">>>import this\n",
    "```\n",
    "\n",
    "---\n",
    "## Hello python!\n",
    "\n",
    "So, let's try!!\n",
    "\n",
    "```python\n",
    "print(\"hello world!\")\n",
    "```\n",
    "\n",
    "---"
   ]
  },
  {
   "cell_type": "code",
   "execution_count": 2,
   "metadata": {},
   "outputs": [
    {
     "name": "stdout",
     "output_type": "stream",
     "text": [
      "hello world!\n"
     ]
    }
   ],
   "source": [
    "print('hello world!')"
   ]
  },
  {
   "cell_type": "code",
   "execution_count": 3,
   "metadata": {},
   "outputs": [
    {
     "name": "stdout",
     "output_type": "stream",
     "text": [
      "The Zen of Python, by Tim Peters\n",
      "\n",
      "Beautiful is better than ugly.\n",
      "Explicit is better than implicit.\n",
      "Simple is better than complex.\n",
      "Complex is better than complicated.\n",
      "Flat is better than nested.\n",
      "Sparse is better than dense.\n",
      "Readability counts.\n",
      "Special cases aren't special enough to break the rules.\n",
      "Although practicality beats purity.\n",
      "Errors should never pass silently.\n",
      "Unless explicitly silenced.\n",
      "In the face of ambiguity, refuse the temptation to guess.\n",
      "There should be one-- and preferably only one --obvious way to do it.\n",
      "Although that way may not be obvious at first unless you're Dutch.\n",
      "Now is better than never.\n",
      "Although never is often better than *right* now.\n",
      "If the implementation is hard to explain, it's a bad idea.\n",
      "If the implementation is easy to explain, it may be a good idea.\n",
      "Namespaces are one honking great idea -- let's do more of those!\n"
     ]
    }
   ],
   "source": [
    "import this"
   ]
  },
  {
   "cell_type": "markdown",
   "metadata": {},
   "source": [
    "## Before learning python!\n",
    "\n",
    "Call by value??  Call by referenace??\n",
    "Neither!!\n",
    "\n",
    "```python\n",
    ">>>li = [1, 2]\n",
    ">>>def func(a):\n",
    "        a.append(3)\n",
    "    \ta = [11, 12]\n",
    "    \n",
    ">>>func(li)\n",
    ">>>print(li)\n",
    "[1, 2, 3] ?!?!?!\n",
    "```\n",
    "\n",
    "---"
   ]
  },
  {
   "cell_type": "code",
   "execution_count": 4,
   "metadata": {},
   "outputs": [
    {
     "name": "stdout",
     "output_type": "stream",
     "text": [
      "[11, 12, 3]\n"
     ]
    }
   ],
   "source": [
    "li = [1, 2]\n",
    "def func(a):\n",
    "    a = [11, 12]\n",
    "    a.append(3)\n",
    "    print(a)\n",
    "func(li)"
   ]
  },
  {
   "cell_type": "code",
   "execution_count": 5,
   "metadata": {},
   "outputs": [
    {
     "data": {
      "text/plain": [
       "list"
      ]
     },
     "execution_count": 5,
     "metadata": {},
     "output_type": "execute_result"
    }
   ],
   "source": [
    "type(li)"
   ]
  },
  {
   "cell_type": "markdown",
   "metadata": {},
   "source": [
    "## Numbers\n",
    "\n",
    "```python\n",
    ">>>a = 10    정수형 \n",
    ">>>b = 1.56  실수형\n",
    "```\n",
    "\n",
    "---\n",
    "## Numbers......메모리 참조 원리!\n",
    "\n",
    "```python\n",
    ">>>a = 10     \n",
    ">>>b = 10\n",
    ">>>id(a)\n",
    "1661819296\n",
    ">>>id(b)\n",
    "1661819296\n",
    ">>>a = 15\n",
    ">>>print(id(a), id(b))\n",
    "1661819376 1661819296 ......?!?!\n",
    "```\n",
    "\n",
    "---"
   ]
  },
  {
   "cell_type": "markdown",
   "metadata": {},
   "source": [
    "## Numbers & Math\n",
    "\n",
    "```python\n",
    "print(3 + 7)\n",
    "print(10 - 3)\n",
    "print(15 / 7) \t: 실수형 나누기\n",
    "print(15//7) : 정수형 나누기\n",
    "print(34 * 100)\n",
    "```\n",
    "\n",
    "---"
   ]
  },
  {
   "cell_type": "code",
   "execution_count": 6,
   "metadata": {},
   "outputs": [
    {
     "name": "stdout",
     "output_type": "stream",
     "text": [
      "2\n",
      "1\n"
     ]
    }
   ],
   "source": [
    "print(15//7) #python에만 존재하는 연산자\n",
    "print(15%7) #엄청 중요하다"
   ]
  },
  {
   "cell_type": "markdown",
   "metadata": {},
   "source": [
    "## Boolean\n",
    "\n",
    "```python\n",
    "print(3 < 7)\n",
    "print(10 < 3)\n",
    "print(15 > 7)\n",
    "print(34 == 100)\n",
    "\n",
    "!=\n",
    ">=\n",
    "<=\n",
    "```\n",
    "\n",
    "---"
   ]
  },
  {
   "cell_type": "code",
   "execution_count": 7,
   "metadata": {},
   "outputs": [
    {
     "data": {
      "text/plain": [
       "0"
      ]
     },
     "execution_count": 7,
     "metadata": {},
     "output_type": "execute_result"
    }
   ],
   "source": [
    "#1=true, 0=false\n",
    "1 and 0 #진리표"
   ]
  },
  {
   "cell_type": "code",
   "execution_count": 8,
   "metadata": {},
   "outputs": [
    {
     "data": {
      "text/plain": [
       "1"
      ]
     },
     "execution_count": 8,
     "metadata": {},
     "output_type": "execute_result"
    }
   ],
   "source": [
    "1 or 0"
   ]
  },
  {
   "cell_type": "code",
   "execution_count": 9,
   "metadata": {},
   "outputs": [
    {
     "data": {
      "text/plain": [
       "1"
      ]
     },
     "execution_count": 9,
     "metadata": {},
     "output_type": "execute_result"
    }
   ],
   "source": [
    "1 ^ 0"
   ]
  },
  {
   "cell_type": "markdown",
   "metadata": {},
   "source": [
    "## Variable\n",
    "\n",
    "```python\n",
    "print(\"hello python!\")\n",
    "hello = \"hello\"\n",
    "python = \"python!\"\n",
    "print(hello, python)\n",
    "print(hello + python)\n",
    "```\n",
    "```python\n",
    "num1 = 14\n",
    "num2 = 5\n",
    "\n",
    "print(num1+num2)\n",
    "print(num1-num2)\n",
    "print(num1*num2)\n",
    "print(num1/num2)\n",
    "print(num1//num2)\n",
    "```\n",
    "\n",
    "---"
   ]
  },
  {
   "cell_type": "markdown",
   "metadata": {},
   "source": [
    "## input\n",
    "```python\n",
    "name = input(\"What is your name? \")\n",
    "print(\"Hi, \", name)\n",
    "```\n",
    "\n",
    "## input with evaluation\n",
    "```python\n",
    "eval('수식')\n",
    ">>>eval('10 + 20')\n",
    ">>>eval(input(\"수식을 입력하시죠 : \"))\n",
    "수식을 입력하시죠'i am your' + ' father!'\n",
    "'i am your father!'\n",
    "```\n",
    "\n",
    "---"
   ]
  },
  {
   "cell_type": "code",
   "execution_count": 10,
   "metadata": {
    "scrolled": true
   },
   "outputs": [
    {
     "name": "stdout",
     "output_type": "stream",
     "text": [
      "type your favorite color: red\n"
     ]
    }
   ],
   "source": [
    "#input\n",
    "#return answer as string\n",
    "color = input(\"type your favorite color: \")"
   ]
  },
  {
   "cell_type": "code",
   "execution_count": 11,
   "metadata": {},
   "outputs": [
    {
     "name": "stdout",
     "output_type": "stream",
     "text": [
      "red\n"
     ]
    }
   ],
   "source": [
    "print(color)"
   ]
  },
  {
   "cell_type": "code",
   "execution_count": 12,
   "metadata": {},
   "outputs": [
    {
     "name": "stdout",
     "output_type": "stream",
     "text": [
      "수식을 입력하세요: 5+5\n"
     ]
    }
   ],
   "source": [
    "#eval(): evaluate(평가)\n",
    "result = input(\"수식을 입력하세요: \") #input은 문자열일 것이다."
   ]
  },
  {
   "cell_type": "code",
   "execution_count": 13,
   "metadata": {
    "scrolled": true
   },
   "outputs": [
    {
     "data": {
      "text/plain": [
       "'5+5'"
      ]
     },
     "execution_count": 13,
     "metadata": {},
     "output_type": "execute_result"
    }
   ],
   "source": [
    "result"
   ]
  },
  {
   "cell_type": "code",
   "execution_count": 14,
   "metadata": {
    "scrolled": false
   },
   "outputs": [
    {
     "data": {
      "text/plain": [
       "str"
      ]
     },
     "execution_count": 14,
     "metadata": {},
     "output_type": "execute_result"
    }
   ],
   "source": [
    "type(result)"
   ]
  },
  {
   "cell_type": "code",
   "execution_count": 15,
   "metadata": {},
   "outputs": [
    {
     "name": "stdout",
     "output_type": "stream",
     "text": [
      "수식을 입력하세요: 5+5\n"
     ]
    }
   ],
   "source": [
    "result = eval(input(\"수식을 입력하세요: \"))"
   ]
  },
  {
   "cell_type": "code",
   "execution_count": 16,
   "metadata": {},
   "outputs": [
    {
     "data": {
      "text/plain": [
       "10"
      ]
     },
     "execution_count": 16,
     "metadata": {},
     "output_type": "execute_result"
    }
   ],
   "source": [
    "result"
   ]
  },
  {
   "cell_type": "code",
   "execution_count": 17,
   "metadata": {},
   "outputs": [
    {
     "data": {
      "text/plain": [
       "int"
      ]
     },
     "execution_count": 17,
     "metadata": {},
     "output_type": "execute_result"
    }
   ],
   "source": [
    "type(result)"
   ]
  },
  {
   "cell_type": "markdown",
   "metadata": {},
   "source": [
    "## String : 변경 불가능\n",
    "\n",
    "```\n",
    "a = \"I am your father!\" or a = ' i am your father!'\n",
    "```\n",
    "\n",
    "```\n",
    "1. 문자열 더하기\n",
    ">>>a = \"python\" + \" is easy\"\n",
    ">>>print(a)\n",
    " \n",
    "2. 문자열 곱하기\n",
    "a = \"=\"\n",
    "print(a * 50)\n",
    "```\n",
    "\n",
    "---"
   ]
  },
  {
   "cell_type": "code",
   "execution_count": 18,
   "metadata": {},
   "outputs": [
    {
     "ename": "TypeError",
     "evalue": "'str' object does not support item assignment",
     "output_type": "error",
     "traceback": [
      "\u001b[0;31m---------------------------------------------------------------------------\u001b[0m",
      "\u001b[0;31mTypeError\u001b[0m                                 Traceback (most recent call last)",
      "\u001b[0;32m<ipython-input-18-942260f46fa8>\u001b[0m in \u001b[0;36m<module>\u001b[0;34m()\u001b[0m\n\u001b[1;32m      1\u001b[0m \u001b[0mz\u001b[0m \u001b[0;34m=\u001b[0m \u001b[0;34m'abcde'\u001b[0m\u001b[0;34m\u001b[0m\u001b[0m\n\u001b[0;32m----> 2\u001b[0;31m \u001b[0mz\u001b[0m\u001b[0;34m[\u001b[0m\u001b[0;36m2\u001b[0m\u001b[0;34m]\u001b[0m \u001b[0;34m=\u001b[0m \u001b[0;34m'f'\u001b[0m\u001b[0;34m\u001b[0m\u001b[0m\n\u001b[0m",
      "\u001b[0;31mTypeError\u001b[0m: 'str' object does not support item assignment"
     ]
    }
   ],
   "source": [
    "z = 'abcde'\n",
    "z[2] = 'f'"
   ]
  },
  {
   "cell_type": "markdown",
   "metadata": {},
   "source": [
    "## String Formatting\n",
    "\n",
    "```\n",
    "print(\"I have a %s, I have an %s.\" % (\"pen\",\"apple\"))\n",
    "```"
   ]
  },
  {
   "cell_type": "code",
   "execution_count": 19,
   "metadata": {
    "collapsed": true
   },
   "outputs": [],
   "source": [
    "# % 방식은 python 2.x의 방식이다\n",
    "# 3.x 방식\n",
    "a = 'taehwan'\n",
    "b = 10\n",
    "# result = '[taehwan] ate [10] apples'"
   ]
  },
  {
   "cell_type": "code",
   "execution_count": 20,
   "metadata": {},
   "outputs": [
    {
     "data": {
      "text/plain": [
       "'taehwan ate 10 apples'"
      ]
     },
     "execution_count": 20,
     "metadata": {},
     "output_type": "execute_result"
    }
   ],
   "source": [
    "result = '{} ate {} apples'.format(a, b)\n",
    "result"
   ]
  },
  {
   "cell_type": "code",
   "execution_count": 21,
   "metadata": {},
   "outputs": [
    {
     "data": {
      "text/plain": [
       "'won ate 20 apples'"
      ]
     },
     "execution_count": 21,
     "metadata": {},
     "output_type": "execute_result"
    }
   ],
   "source": [
    "a = 'won'\n",
    "b = 20\n",
    "result = '{} ate {} apples'.format(a, b)\n",
    "result"
   ]
  },
  {
   "cell_type": "code",
   "execution_count": 22,
   "metadata": {},
   "outputs": [
    {
     "data": {
      "text/plain": [
       "'won ate 20 apples, won'"
      ]
     },
     "execution_count": 22,
     "metadata": {},
     "output_type": "execute_result"
    }
   ],
   "source": [
    "result = '{name} ate {number} apples, {name}'.format(name = a, number = b)\n",
    "result"
   ]
  },
  {
   "cell_type": "markdown",
   "metadata": {},
   "source": [
    "```\n",
    "%s - string\n",
    "%c - character\n",
    "%d - Integer(decimal)\n",
    "%f - floating-point\n",
    "%o - 8진수(Octal)\n",
    "%x - 16진수(hexadecimal)\n",
    "%% - %\n",
    "```\n",
    "\n",
    "---"
   ]
  },
  {
   "cell_type": "code",
   "execution_count": 23,
   "metadata": {
    "collapsed": true
   },
   "outputs": [],
   "source": [
    "txt = '''\n",
    "multi-line string and\n",
    "line-feed\n",
    "'''"
   ]
  },
  {
   "cell_type": "code",
   "execution_count": 24,
   "metadata": {},
   "outputs": [
    {
     "data": {
      "text/plain": [
       "'\\nmulti-line string and\\nline-feed\\n'"
      ]
     },
     "execution_count": 24,
     "metadata": {},
     "output_type": "execute_result"
    }
   ],
   "source": [
    "txt"
   ]
  },
  {
   "cell_type": "markdown",
   "metadata": {},
   "source": [
    "## String Functions\n",
    "```\n",
    "s = \"Python is, easy to learn, however powerful\"\n",
    "\n",
    "1. 문자 개수 세기 \n",
    "s.count('p') : 문자열 안에 'p'가 몇 개?\n",
    "\n",
    "2. 문자 위치 찾기 \n",
    "s.find('p') : 'p'가 처음 나오는 인덱스 반환\n",
    "\n",
    "3. 문자열 insert\n",
    "s2 = ','.join('python') :','를 인서트 하여 문자열 생성\n",
    "\n",
    "4. 문자열 나누기\n",
    "s.split(',') : ','를 기준\n",
    "s.split() : 공백 기준\n",
    "\n",
    "5. 부분 문자열 대체 \n",
    "s.replace(\"python\", \"C++\")\n",
    "```\n",
    "\n",
    "\n",
    "---"
   ]
  },
  {
   "cell_type": "code",
   "execution_count": 25,
   "metadata": {
    "scrolled": true
   },
   "outputs": [
    {
     "data": {
      "text/plain": [
       "['__add__',\n",
       " '__class__',\n",
       " '__contains__',\n",
       " '__delattr__',\n",
       " '__dir__',\n",
       " '__doc__',\n",
       " '__eq__',\n",
       " '__format__',\n",
       " '__ge__',\n",
       " '__getattribute__',\n",
       " '__getitem__',\n",
       " '__getnewargs__',\n",
       " '__gt__',\n",
       " '__hash__',\n",
       " '__init__',\n",
       " '__init_subclass__',\n",
       " '__iter__',\n",
       " '__le__',\n",
       " '__len__',\n",
       " '__lt__',\n",
       " '__mod__',\n",
       " '__mul__',\n",
       " '__ne__',\n",
       " '__new__',\n",
       " '__reduce__',\n",
       " '__reduce_ex__',\n",
       " '__repr__',\n",
       " '__rmod__',\n",
       " '__rmul__',\n",
       " '__setattr__',\n",
       " '__sizeof__',\n",
       " '__str__',\n",
       " '__subclasshook__',\n",
       " 'capitalize',\n",
       " 'casefold',\n",
       " 'center',\n",
       " 'count',\n",
       " 'encode',\n",
       " 'endswith',\n",
       " 'expandtabs',\n",
       " 'find',\n",
       " 'format',\n",
       " 'format_map',\n",
       " 'index',\n",
       " 'isalnum',\n",
       " 'isalpha',\n",
       " 'isdecimal',\n",
       " 'isdigit',\n",
       " 'isidentifier',\n",
       " 'islower',\n",
       " 'isnumeric',\n",
       " 'isprintable',\n",
       " 'isspace',\n",
       " 'istitle',\n",
       " 'isupper',\n",
       " 'join',\n",
       " 'ljust',\n",
       " 'lower',\n",
       " 'lstrip',\n",
       " 'maketrans',\n",
       " 'partition',\n",
       " 'replace',\n",
       " 'rfind',\n",
       " 'rindex',\n",
       " 'rjust',\n",
       " 'rpartition',\n",
       " 'rsplit',\n",
       " 'rstrip',\n",
       " 'split',\n",
       " 'splitlines',\n",
       " 'startswith',\n",
       " 'strip',\n",
       " 'swapcase',\n",
       " 'title',\n",
       " 'translate',\n",
       " 'upper',\n",
       " 'zfill']"
      ]
     },
     "execution_count": 25,
     "metadata": {},
     "output_type": "execute_result"
    }
   ],
   "source": [
    "dir(a)    #python 예약함수"
   ]
  },
  {
   "cell_type": "code",
   "execution_count": 26,
   "metadata": {
    "scrolled": true
   },
   "outputs": [
    {
     "name": "stdout",
     "output_type": "stream",
     "text": [
      "Help on built-in function count:\n",
      "\n",
      "count(...) method of builtins.str instance\n",
      "    S.count(sub[, start[, end]]) -> int\n",
      "    \n",
      "    Return the number of non-overlapping occurrences of substring sub in\n",
      "    string S[start:end].  Optional arguments start and end are\n",
      "    interpreted as in slice notation.\n",
      "\n"
     ]
    }
   ],
   "source": [
    "help(a.count)"
   ]
  },
  {
   "cell_type": "code",
   "execution_count": 27,
   "metadata": {},
   "outputs": [
    {
     "data": {
      "text/plain": [
       "2"
      ]
     },
     "execution_count": 27,
     "metadata": {},
     "output_type": "execute_result"
    }
   ],
   "source": [
    "s = 'python is easy to learn however powerful'\n",
    "s.count('p')"
   ]
  },
  {
   "cell_type": "code",
   "execution_count": 28,
   "metadata": {},
   "outputs": [
    {
     "data": {
      "text/plain": [
       "0"
      ]
     },
     "execution_count": 28,
     "metadata": {},
     "output_type": "execute_result"
    }
   ],
   "source": [
    "s.count('p', 3, 10)"
   ]
  },
  {
   "cell_type": "code",
   "execution_count": 29,
   "metadata": {
    "scrolled": false
   },
   "outputs": [
    {
     "name": "stdout",
     "output_type": "stream",
     "text": [
      "Help on built-in function find:\n",
      "\n",
      "find(...) method of builtins.str instance\n",
      "    S.find(sub[, start[, end]]) -> int\n",
      "    \n",
      "    Return the lowest index in S where substring sub is found,\n",
      "    such that sub is contained within S[start:end].  Optional\n",
      "    arguments start and end are interpreted as in slice notation.\n",
      "    \n",
      "    Return -1 on failure.\n",
      "\n"
     ]
    }
   ],
   "source": [
    "help(a.find)"
   ]
  },
  {
   "cell_type": "code",
   "execution_count": 30,
   "metadata": {},
   "outputs": [
    {
     "data": {
      "text/plain": [
       "0"
      ]
     },
     "execution_count": 30,
     "metadata": {},
     "output_type": "execute_result"
    }
   ],
   "source": [
    "s.find('p')"
   ]
  },
  {
   "cell_type": "code",
   "execution_count": 31,
   "metadata": {
    "scrolled": true
   },
   "outputs": [
    {
     "name": "stdout",
     "output_type": "stream",
     "text": [
      "Help on built-in function rfind:\n",
      "\n",
      "rfind(...) method of builtins.str instance\n",
      "    S.rfind(sub[, start[, end]]) -> int\n",
      "    \n",
      "    Return the highest index in S where substring sub is found,\n",
      "    such that sub is contained within S[start:end].  Optional\n",
      "    arguments start and end are interpreted as in slice notation.\n",
      "    \n",
      "    Return -1 on failure.\n",
      "\n"
     ]
    }
   ],
   "source": [
    "help(a.rfind)"
   ]
  },
  {
   "cell_type": "code",
   "execution_count": 32,
   "metadata": {
    "scrolled": true
   },
   "outputs": [
    {
     "data": {
      "text/plain": [
       "39"
      ]
     },
     "execution_count": 32,
     "metadata": {},
     "output_type": "execute_result"
    }
   ],
   "source": [
    "s.rfind('l')"
   ]
  },
  {
   "cell_type": "code",
   "execution_count": 33,
   "metadata": {
    "scrolled": true
   },
   "outputs": [
    {
     "name": "stdout",
     "output_type": "stream",
     "text": [
      "Help on built-in function count:\n",
      "\n",
      "count(...) method of builtins.str instance\n",
      "    S.count(sub[, start[, end]]) -> int\n",
      "    \n",
      "    Return the number of non-overlapping occurrences of substring sub in\n",
      "    string S[start:end].  Optional arguments start and end are\n",
      "    interpreted as in slice notation.\n",
      "\n"
     ]
    }
   ],
   "source": [
    "help(a.count)"
   ]
  },
  {
   "cell_type": "code",
   "execution_count": 34,
   "metadata": {
    "scrolled": true
   },
   "outputs": [
    {
     "data": {
      "text/plain": [
       "41"
      ]
     },
     "execution_count": 34,
     "metadata": {},
     "output_type": "execute_result"
    }
   ],
   "source": [
    "s.count('')"
   ]
  },
  {
   "cell_type": "code",
   "execution_count": 35,
   "metadata": {},
   "outputs": [
    {
     "name": "stdout",
     "output_type": "stream",
     "text": [
      "Help on built-in function split:\n",
      "\n",
      "split(...) method of builtins.str instance\n",
      "    S.split(sep=None, maxsplit=-1) -> list of strings\n",
      "    \n",
      "    Return a list of the words in S, using sep as the\n",
      "    delimiter string.  If maxsplit is given, at most maxsplit\n",
      "    splits are done. If sep is not specified or is None, any\n",
      "    whitespace string is a separator and empty strings are\n",
      "    removed from the result.\n",
      "\n"
     ]
    }
   ],
   "source": [
    "help(a.split)"
   ]
  },
  {
   "cell_type": "code",
   "execution_count": 36,
   "metadata": {
    "scrolled": false
   },
   "outputs": [
    {
     "data": {
      "text/plain": [
       "['python', 'is', 'easy', 'to', 'learn', 'however', 'powerful']"
      ]
     },
     "execution_count": 36,
     "metadata": {},
     "output_type": "execute_result"
    }
   ],
   "source": [
    "s.split(' ')"
   ]
  },
  {
   "cell_type": "code",
   "execution_count": 37,
   "metadata": {
    "scrolled": true
   },
   "outputs": [
    {
     "data": {
      "text/plain": [
       "'c++ is easy to learn however powerful'"
      ]
     },
     "execution_count": 37,
     "metadata": {},
     "output_type": "execute_result"
    }
   ],
   "source": [
    "s.replace('python', 'c++')"
   ]
  },
  {
   "cell_type": "code",
   "execution_count": 38,
   "metadata": {
    "scrolled": true
   },
   "outputs": [
    {
     "data": {
      "text/plain": [
       "'1+5'"
      ]
     },
     "execution_count": 38,
     "metadata": {},
     "output_type": "execute_result"
    }
   ],
   "source": [
    "a = '1            +             5'\n",
    "a.replace(' ', '')    #공백제거"
   ]
  },
  {
   "cell_type": "code",
   "execution_count": 39,
   "metadata": {
    "scrolled": true
   },
   "outputs": [
    {
     "name": "stdout",
     "output_type": "stream",
     "text": [
      "Help on built-in function join:\n",
      "\n",
      "join(...) method of builtins.str instance\n",
      "    S.join(iterable) -> str\n",
      "    \n",
      "    Return a string which is the concatenation of the strings in the\n",
      "    iterable.  The separator between elements is S.\n",
      "\n"
     ]
    }
   ],
   "source": [
    "#join\n",
    "help(a.join)"
   ]
  },
  {
   "cell_type": "code",
   "execution_count": 40,
   "metadata": {},
   "outputs": [
    {
     "data": {
      "text/plain": [
       "'a!b!c!d'"
      ]
     },
     "execution_count": 40,
     "metadata": {},
     "output_type": "execute_result"
    }
   ],
   "source": [
    "a = ['a', 'b', 'c', 'd']\n",
    "''.join(a)\n",
    "'!'.join(a)"
   ]
  },
  {
   "cell_type": "code",
   "execution_count": 41,
   "metadata": {},
   "outputs": [
    {
     "data": {
      "text/plain": [
       "'a?b?c?d'"
      ]
     },
     "execution_count": 41,
     "metadata": {},
     "output_type": "execute_result"
    }
   ],
   "source": [
    "sep = '?'\n",
    "sep.join(a)"
   ]
  },
  {
   "cell_type": "code",
   "execution_count": 42,
   "metadata": {},
   "outputs": [
    {
     "data": {
      "text/plain": [
       "'1?3?5'"
      ]
     },
     "execution_count": 42,
     "metadata": {},
     "output_type": "execute_result"
    }
   ],
   "source": [
    "tp = ('1', '3', '5')\n",
    "sep.join(tp)"
   ]
  },
  {
   "cell_type": "code",
   "execution_count": 65,
   "metadata": {},
   "outputs": [
    {
     "data": {
      "application/javascript": [
       "var a = [1, 2, 3, \"abb\"]\n",
       "console.log(a)\n",
       "console.log(Array.isArray(a))"
      ],
      "text/plain": [
       "<IPython.core.display.Javascript object>"
      ]
     },
     "metadata": {},
     "output_type": "display_data"
    }
   ],
   "source": [
    "%%javascript\n",
    "var a = [1, 2, 3, \"abb\"]\n",
    "console.log(a)\n",
    "console.log(Array.isArray(a))"
   ]
  },
  {
   "cell_type": "code",
   "execution_count": 70,
   "metadata": {},
   "outputs": [
    {
     "data": {
      "text/plain": [
       "[10]"
      ]
     },
     "execution_count": 70,
     "metadata": {},
     "output_type": "execute_result"
    }
   ],
   "source": [
    "a = 10\n",
    "b = 20\n",
    "c = []\n",
    "c.append(a)\n",
    "c"
   ]
  },
  {
   "cell_type": "code",
   "execution_count": 84,
   "metadata": {
    "scrolled": true
   },
   "outputs": [
    {
     "name": "stdout",
     "output_type": "stream",
     "text": [
      "3 b\n"
     ]
    }
   ],
   "source": [
    "c = [1,2,3,4,'abc',[1,2,3]]\n",
    "print(c[-1][-1], c[-2][-2])"
   ]
  },
  {
   "cell_type": "code",
   "execution_count": 78,
   "metadata": {},
   "outputs": [
    {
     "name": "stdout",
     "output_type": "stream",
     "text": [
      "Help on built-in function extend:\n",
      "\n",
      "extend(...) method of builtins.list instance\n",
      "    L.extend(iterable) -> None -- extend list by appending elements from the iterable\n",
      "\n"
     ]
    }
   ],
   "source": [
    "help(c.extend)"
   ]
  },
  {
   "cell_type": "code",
   "execution_count": 85,
   "metadata": {
    "scrolled": true
   },
   "outputs": [
    {
     "data": {
      "text/plain": [
       "[1, 2, 3, 4, 'abc', [1, 2, 3], 1, 2, 3]"
      ]
     },
     "execution_count": 85,
     "metadata": {},
     "output_type": "execute_result"
    }
   ],
   "source": [
    "c.extend([1,2,3])\n",
    "c"
   ]
  },
  {
   "cell_type": "code",
   "execution_count": 86,
   "metadata": {},
   "outputs": [
    {
     "name": "stdout",
     "output_type": "stream",
     "text": [
      "[1, 2, 3, 4, 5, 6]\n",
      "[1, 2, 3, 4, 5, 6, 7, 8]\n",
      "[1, 3, 4, 5, 6, 7, 8]\n"
     ]
    }
   ],
   "source": [
    "li = [1, 2, 3, 4, 5]\n",
    "li.append(6)\n",
    "print(li)\n",
    "li.extend([7, 8])\n",
    "print(li)\n",
    "li.remove(2)\n",
    "print(li)"
   ]
  },
  {
   "cell_type": "code",
   "execution_count": 89,
   "metadata": {},
   "outputs": [
    {
     "data": {
      "text/plain": [
       "3"
      ]
     },
     "execution_count": 89,
     "metadata": {},
     "output_type": "execute_result"
    }
   ],
   "source": [
    "li.index(5)"
   ]
  },
  {
   "cell_type": "code",
   "execution_count": 94,
   "metadata": {},
   "outputs": [
    {
     "data": {
      "text/plain": [
       "6"
      ]
     },
     "execution_count": 94,
     "metadata": {},
     "output_type": "execute_result"
    }
   ],
   "source": [
    "li.pop()"
   ]
  },
  {
   "cell_type": "code",
   "execution_count": 97,
   "metadata": {},
   "outputs": [
    {
     "data": {
      "text/plain": [
       "[1, 3, 4, 5]"
      ]
     },
     "execution_count": 97,
     "metadata": {},
     "output_type": "execute_result"
    }
   ],
   "source": [
    "li.sort()\n",
    "li"
   ]
  },
  {
   "cell_type": "markdown",
   "metadata": {},
   "source": [
    "## List, Tuple, Dictionary\n",
    "List : 변경 가능\n",
    "```\n",
    "animals = ['lion','hippo','cat']\n",
    "```\n",
    "\n",
    "Tuple : 변경 불가능\n",
    "\n",
    "```\n",
    "animals = ('lion','hippo','cat')\n",
    "```\n",
    "Dictionary : 변경 가능\n",
    "```\n",
    "user = {'name':'fastcampus','age':'27',\n",
    "city:['seoul','busan','incheon']}\n",
    "```\n",
    "\n",
    "---\n",
    "## List detail\n",
    "```\n",
    "list_nam\te = [요소1, 요소2, 요소3, ....]\n",
    "\n",
    "a = [1, 2, 'a', 'b', [4, 5, 6]] : 같은 자료형이 아니어도 됨\n",
    "\n",
    "1. 인덱싱\n",
    ">>> a[1]\n",
    "2\n",
    ">>> a[4][-1]\n",
    "6\n",
    "```\n",
    "---"
   ]
  },
  {
   "cell_type": "code",
   "execution_count": 98,
   "metadata": {},
   "outputs": [
    {
     "data": {
      "application/javascript": [
       "var a = \"abcde\"\n",
       "console.log(a[-2])\n",
       "var b = [1,2,3,4]\n",
       "console.log(b[1])"
      ],
      "text/plain": [
       "<IPython.core.display.Javascript object>"
      ]
     },
     "metadata": {},
     "output_type": "display_data"
    }
   ],
   "source": [
    "%%javascript\n",
    "var a = \"abcde\"\n",
    "console.log(a[-2])\n",
    "var b = [1,2,3,4]\n",
    "console.log(b[1])"
   ]
  },
  {
   "cell_type": "markdown",
   "metadata": {},
   "source": [
    "## List detail\n",
    "```\n",
    "a = [1, 2, 'a', 'b', [4, 5, 6]]\n",
    "\n",
    "2. 슬라이싱\n",
    ">>> a[0:3] : 0이상 3 미만 (3은 포함되지 않음!!)\n",
    "1, 2, 'a'\n",
    "```\n",
    "\n",
    "---"
   ]
  },
  {
   "cell_type": "code",
   "execution_count": 99,
   "metadata": {
    "collapsed": true
   },
   "outputs": [],
   "source": [
    "#slicing\n",
    "a = 'abcdefghijklmn'"
   ]
  },
  {
   "cell_type": "code",
   "execution_count": 100,
   "metadata": {
    "scrolled": true
   },
   "outputs": [
    {
     "data": {
      "text/plain": [
       "'abcdefghi'"
      ]
     },
     "execution_count": 100,
     "metadata": {},
     "output_type": "execute_result"
    }
   ],
   "source": [
    "#[start:end]\n",
    "b = a[:-5]\n",
    "b"
   ]
  },
  {
   "cell_type": "code",
   "execution_count": 101,
   "metadata": {},
   "outputs": [
    {
     "data": {
      "text/plain": [
       "True"
      ]
     },
     "execution_count": 101,
     "metadata": {},
     "output_type": "execute_result"
    }
   ],
   "source": [
    "#string edit convention\n",
    "a = 'abcde'\n",
    "b = 'abzde'\n",
    "c = a[0:2] + 'z' + a[3:5]\n",
    "b == c"
   ]
  },
  {
   "cell_type": "code",
   "execution_count": 102,
   "metadata": {},
   "outputs": [
    {
     "data": {
      "text/plain": [
       "True"
      ]
     },
     "execution_count": 102,
     "metadata": {},
     "output_type": "execute_result"
    }
   ],
   "source": [
    "#use built-in\n",
    "a1 = 'abcde'\n",
    "b1 = 'abzde'\n",
    "c1 = a1.replace('c', 'z')\n",
    "b1 == c1"
   ]
  },
  {
   "cell_type": "markdown",
   "metadata": {},
   "source": [
    "## List detail\n",
    "```\n",
    "a = [1, 2, 'a', 'b', [4, 5, 6]]\n",
    "\n",
    "3. del\n",
    ">>> del a[1]\n",
    "[1, 'a', 'b', [4, 5, 6]]\n",
    "\n",
    "4. append\n",
    ">>>a.append(4)\n",
    "[1, 'a', 'b', [4, 5, 6], 4]\n",
    "\n",
    "5. insert\n",
    ">>>a.insert(1, 2)\n",
    "[1, 2, 'a','b',[4, 5, 6], 4]\n",
    "\n",
    "```\n",
    "---\n",
    "## List detail\n",
    "```\n",
    "a = [1, 2, 'a', 'b', [4, 5, 6], 4]\n",
    "\n",
    "6. remove\n",
    ">>> a.remove('a')\n",
    "[1, 2, 'b', [4, 5, 6], 4]\n",
    "\n",
    "7. pop\n",
    ">>>a.pop()\n",
    "4\n",
    ">>>a\n",
    "[1, 2, 'b', [4, 5, 6]]\n",
    "\n",
    "8. sort\n",
    ">>> b = [ 3, 2, 1, 4]\n",
    ">>> b.sort()\n",
    "[1, 2, 3, 4]\n",
    "```\n",
    "\n",
    "---\n",
    "## List : 메모리 참조 원리!\n",
    "```\n",
    ">>>a = [1, 2, 3]\n",
    ">>>b = a\n",
    ">>>print(id(a), id(b))\n",
    "65960216 65960216\n",
    ">>>b[1] = 4\n",
    ">>>b\n",
    "[1, 4, 3]\n",
    ">>>a\n",
    "[1, 4, 3].....?!?! 너는 왜 바뀌었니??\n",
    ">>>print(id(a), id(b))\n",
    "65960216 65960216\n",
    "```\n",
    "\n",
    "---"
   ]
  },
  {
   "cell_type": "markdown",
   "metadata": {},
   "source": [
    "## If\n",
    "```python\n",
    "if 조건:\n",
    "\t실행문\n",
    "\n",
    "if 조건1 and 조건2:\n",
    "\t실행문\n",
    "\n",
    "if 조건1 or 조건2:\n",
    "\t실행문\n",
    "if not 조건:\n",
    "\t실행문\n",
    "```"
   ]
  },
  {
   "cell_type": "code",
   "execution_count": 103,
   "metadata": {
    "scrolled": true
   },
   "outputs": [
    {
     "name": "stdout",
     "output_type": "stream",
     "text": [
      "a가 10보다 작다\n"
     ]
    }
   ],
   "source": [
    "a = 1\n",
    "if a >= 10:\n",
    "    print('a')\n",
    "else:\n",
    "    print('a가 10보다 작다')"
   ]
  },
  {
   "cell_type": "code",
   "execution_count": 104,
   "metadata": {
    "collapsed": true
   },
   "outputs": [],
   "source": [
    "#user -> 숫자를 받아서\n",
    "#만약 num이 양수면 '양수' 출력\n",
    "#만약 num이 0이면 '0' 출력\n",
    "#만약 num이 음수면 '음수' 출력"
   ]
  },
  {
   "cell_type": "code",
   "execution_count": 105,
   "metadata": {
    "scrolled": true
   },
   "outputs": [
    {
     "data": {
      "text/plain": [
       "-1"
      ]
     },
     "execution_count": 105,
     "metadata": {},
     "output_type": "execute_result"
    }
   ],
   "source": [
    "int(-1.5)"
   ]
  },
  {
   "cell_type": "code",
   "execution_count": 106,
   "metadata": {},
   "outputs": [
    {
     "ename": "ValueError",
     "evalue": "invalid literal for int() with base 10: '1.5'",
     "output_type": "error",
     "traceback": [
      "\u001b[0;31m---------------------------------------------------------------------------\u001b[0m",
      "\u001b[0;31mValueError\u001b[0m                                Traceback (most recent call last)",
      "\u001b[0;32m<ipython-input-106-9851c94c0414>\u001b[0m in \u001b[0;36m<module>\u001b[0;34m()\u001b[0m\n\u001b[0;32m----> 1\u001b[0;31m \u001b[0mint\u001b[0m\u001b[0;34m(\u001b[0m\u001b[0;34m'1.5'\u001b[0m\u001b[0;34m)\u001b[0m\u001b[0;34m\u001b[0m\u001b[0m\n\u001b[0m",
      "\u001b[0;31mValueError\u001b[0m: invalid literal for int() with base 10: '1.5'"
     ]
    }
   ],
   "source": [
    "int('1.5')"
   ]
  },
  {
   "cell_type": "code",
   "execution_count": 107,
   "metadata": {
    "scrolled": false
   },
   "outputs": [
    {
     "name": "stdout",
     "output_type": "stream",
     "text": [
      "숫자를 입력해주세요: \n"
     ]
    },
    {
     "ename": "ValueError",
     "evalue": "could not convert string to float: ",
     "output_type": "error",
     "traceback": [
      "\u001b[0;31m---------------------------------------------------------------------------\u001b[0m",
      "\u001b[0;31mValueError\u001b[0m                                Traceback (most recent call last)",
      "\u001b[0;32m<ipython-input-107-bcc4c44bff26>\u001b[0m in \u001b[0;36m<module>\u001b[0;34m()\u001b[0m\n\u001b[1;32m      1\u001b[0m \u001b[0mnum\u001b[0m \u001b[0;34m=\u001b[0m \u001b[0minput\u001b[0m\u001b[0;34m(\u001b[0m\u001b[0;34m'숫자를 입력해주세요: '\u001b[0m\u001b[0;34m)\u001b[0m\u001b[0;34m\u001b[0m\u001b[0m\n\u001b[0;32m----> 2\u001b[0;31m \u001b[0mnum\u001b[0m \u001b[0;34m=\u001b[0m \u001b[0mint\u001b[0m\u001b[0;34m(\u001b[0m\u001b[0mfloat\u001b[0m\u001b[0;34m(\u001b[0m\u001b[0mnum\u001b[0m\u001b[0;34m)\u001b[0m\u001b[0;34m)\u001b[0m\u001b[0;34m\u001b[0m\u001b[0m\n\u001b[0m\u001b[1;32m      3\u001b[0m \u001b[0;32mif\u001b[0m \u001b[0mnum\u001b[0m \u001b[0;34m>\u001b[0m \u001b[0;36m0\u001b[0m\u001b[0;34m:\u001b[0m\u001b[0;34m\u001b[0m\u001b[0m\n\u001b[1;32m      4\u001b[0m     \u001b[0mprint\u001b[0m\u001b[0;34m(\u001b[0m\u001b[0;34m'양수'\u001b[0m\u001b[0;34m)\u001b[0m\u001b[0;34m\u001b[0m\u001b[0m\n\u001b[1;32m      5\u001b[0m \u001b[0;32melif\u001b[0m \u001b[0mnum\u001b[0m \u001b[0;34m==\u001b[0m \u001b[0;36m0\u001b[0m\u001b[0;34m:\u001b[0m\u001b[0;34m\u001b[0m\u001b[0m\n",
      "\u001b[0;31mValueError\u001b[0m: could not convert string to float: "
     ]
    }
   ],
   "source": [
    "num = input('숫자를 입력해주세요: ')\n",
    "num = int(float(num))\n",
    "if num > 0:\n",
    "    print('양수')\n",
    "elif num == 0:\n",
    "    print('0')\n",
    "else:\n",
    "    print('음수')"
   ]
  },
  {
   "cell_type": "code",
   "execution_count": 108,
   "metadata": {
    "collapsed": true
   },
   "outputs": [],
   "source": [
    "#numguess\n",
    "#user에게서 숫자를 하나 얻고\n",
    "#random으로 숫자를 하나 얻고\n",
    "#비교해서 user == random -> print 'you win'\n",
    "#user != random -> print 'you lose;"
   ]
  },
  {
   "cell_type": "code",
   "execution_count": 109,
   "metadata": {},
   "outputs": [
    {
     "name": "stdout",
     "output_type": "stream",
     "text": [
      "1부터 10 중 숫자를 맞춰보세요: \n"
     ]
    },
    {
     "ename": "ValueError",
     "evalue": "invalid literal for int() with base 10: ''",
     "output_type": "error",
     "traceback": [
      "\u001b[0;31m---------------------------------------------------------------------------\u001b[0m",
      "\u001b[0;31mValueError\u001b[0m                                Traceback (most recent call last)",
      "\u001b[0;32m<ipython-input-109-bf963b7dd2cd>\u001b[0m in \u001b[0;36m<module>\u001b[0;34m()\u001b[0m\n\u001b[1;32m      1\u001b[0m \u001b[0;32mimport\u001b[0m \u001b[0mrandom\u001b[0m\u001b[0;34m\u001b[0m\u001b[0m\n\u001b[1;32m      2\u001b[0m \u001b[0;34m\u001b[0m\u001b[0m\n\u001b[0;32m----> 3\u001b[0;31m \u001b[0muser_num\u001b[0m \u001b[0;34m=\u001b[0m \u001b[0mint\u001b[0m\u001b[0;34m(\u001b[0m\u001b[0minput\u001b[0m\u001b[0;34m(\u001b[0m\u001b[0;34m'1부터 10 중 숫자를 맞춰보세요: '\u001b[0m\u001b[0;34m)\u001b[0m\u001b[0;34m)\u001b[0m\u001b[0;34m\u001b[0m\u001b[0m\n\u001b[0m\u001b[1;32m      4\u001b[0m \u001b[0manswer\u001b[0m \u001b[0;34m=\u001b[0m \u001b[0mrandom\u001b[0m\u001b[0;34m.\u001b[0m\u001b[0mrandint\u001b[0m\u001b[0;34m(\u001b[0m\u001b[0;36m1\u001b[0m\u001b[0;34m,\u001b[0m \u001b[0;36m10\u001b[0m\u001b[0;34m)\u001b[0m\u001b[0;34m\u001b[0m\u001b[0m\n\u001b[1;32m      5\u001b[0m \u001b[0;34m\u001b[0m\u001b[0m\n",
      "\u001b[0;31mValueError\u001b[0m: invalid literal for int() with base 10: ''"
     ]
    }
   ],
   "source": [
    "import random\n",
    "\n",
    "user_num = int(input('1부터 10 중 숫자를 맞춰보세요: '))\n",
    "answer = random.randint(1, 10)\n",
    "\n",
    "if user_num == answer:\n",
    "    print('you win!')\n",
    "else:\n",
    "    print('you lose~')"
   ]
  },
  {
   "cell_type": "markdown",
   "metadata": {},
   "source": [
    "### Comparison Operators\n",
    "```\n",
    "x == n\n",
    "x != n\n",
    "\n",
    "x < n\n",
    "x > n\n",
    "x <= n\n",
    "x >= n\n",
    "```\n",
    "\n",
    "---\n",
    "## else\n",
    "```python\n",
    "if 조건:\n",
    "\t실행문1\n",
    "else:\n",
    "\t실행문2\n",
    "```\n",
    "\n",
    "## else if\n",
    "\n",
    "```python\n",
    "if 조건1:\n",
    "\t실행문1\n",
    "else:\n",
    "\tif 조건2:\n",
    "\t\t실행문2\n",
    "\telse:\n",
    "\t\t실행문3\n",
    "```\n",
    "\n",
    "---\n",
    "## elif\n",
    "```python\n",
    "if 조건1:\n",
    "\t실행문1\n",
    "elif 조건2:\n",
    "\t실행문2\n",
    "elif 조건3:\n",
    "\t실행문3\n",
    "...\n",
    "else:\n",
    "\t실행문n\n",
    "```\n",
    "\n",
    "---"
   ]
  },
  {
   "cell_type": "markdown",
   "metadata": {},
   "source": [
    "## numguess\n",
    "```python\n",
    "import random\n",
    "\n",
    "\n",
    "answer = random.randint(1,100)\n",
    "print(answer)\n",
    "```\n",
    "\n",
    "---\n",
    "## numguess\n",
    "```python\n",
    "username = input(\"Hi there, What's your name?? \")\n",
    "guess = eval(input(\"Hi, \"+ username + \"guess the number: \"))\n",
    "\n",
    "if guess == answer:\n",
    "\tprint(\"Correct! The answer was \", str(answer))\n",
    "else:\n",
    "\tprint(\"That's not what I wanted!! The answer was \",\n",
    "    str(answer))\n",
    "```\n",
    "\n",
    "---\n",
    "## numguess advanced!!\n",
    "\n",
    "how to make it look like a real game??\n",
    "\n",
    "1. 반복문\n",
    "\n",
    "---"
   ]
  },
  {
   "cell_type": "markdown",
   "metadata": {},
   "source": [
    "## For, while\n",
    "```python\n",
    "for 변수 in (리스트 or 문자열):\n",
    "\t실행문1\n",
    "    ...\n",
    "```\n",
    "```python\n",
    "for i in [\"python\", \"java\", \"golang\"]:\n",
    "\tprint(i)\n",
    "```\n",
    "\n",
    "---"
   ]
  },
  {
   "cell_type": "code",
   "execution_count": 6,
   "metadata": {},
   "outputs": [
    {
     "ename": "SyntaxError",
     "evalue": "cannot mix bytes and nonbytes literals (<ipython-input-6-ecd3e8001594>, line 1)",
     "output_type": "error",
     "traceback": [
      "\u001b[0;36m  File \u001b[0;32m\"<ipython-input-6-ecd3e8001594>\"\u001b[0;36m, line \u001b[0;32m1\u001b[0m\n\u001b[0;31m    for iiiiiii in (('a'b'c','defg')):\u001b[0m\n\u001b[0m                    ^\u001b[0m\n\u001b[0;31mSyntaxError\u001b[0m\u001b[0;31m:\u001b[0m cannot mix bytes and nonbytes literals\n"
     ]
    }
   ],
   "source": [
    "for i in :\n",
    "    print(i)"
   ]
  },
  {
   "cell_type": "code",
   "execution_count": 8,
   "metadata": {},
   "outputs": [
    {
     "data": {
      "text/plain": [
       "set()"
      ]
     },
     "execution_count": 8,
     "metadata": {},
     "output_type": "execute_result"
    }
   ],
   "source": [
    "set()"
   ]
  },
  {
   "cell_type": "code",
   "execution_count": 17,
   "metadata": {},
   "outputs": [
    {
     "data": {
      "text/plain": [
       "[3, 9, 27, 81]"
      ]
     },
     "execution_count": 17,
     "metadata": {},
     "output_type": "execute_result"
    }
   ],
   "source": [
    "[3**i for i in range(1,5)]"
   ]
  },
  {
   "cell_type": "code",
   "execution_count": 22,
   "metadata": {},
   "outputs": [
    {
     "data": {
      "text/plain": [
       "('abcde', True)"
      ]
     },
     "execution_count": 22,
     "metadata": {},
     "output_type": "execute_result"
    }
   ],
   "source": [
    "tu = ('a', 'b', 'c', 'd', 'e')\n",
    "string = 'abcde'\n",
    "answer = ''\n",
    "\n",
    "for char in tu:\n",
    "    answer = answer + char\n",
    "    #anser += char\n",
    "answer, string == answer"
   ]
  },
  {
   "cell_type": "code",
   "execution_count": 41,
   "metadata": {},
   "outputs": [],
   "source": [
    "#fizzbuzz\n",
    "\n",
    "#for -> print\n",
    "#1,2는 그냥 출력\n",
    "#3의배수는 fizz\n",
    "#4는 4\n",
    "#5의배수는 buzz\n",
    "#15의배수는 fizzbuzz"
   ]
  },
  {
   "cell_type": "code",
   "execution_count": 38,
   "metadata": {
    "collapsed": true
   },
   "outputs": [],
   "source": [
    "`"
   ]
  },
  {
   "cell_type": "code",
   "execution_count": 40,
   "metadata": {},
   "outputs": [
    {
     "name": "stdout",
     "output_type": "stream",
     "text": [
      "[1, 2, 'fizz', 4, 'buzz', 'fizz', 7, 8, 'fizz', 'buzz', 11, 'fizz', 13, 14, 'fizzbuzz', 16, 17, 'fizz', 19, 'buzz', 'fizz', 22, 23, 'fizz', 'buzz', 26, 'fizz', 28, 29, 'fizzbuzz', 31, 32, 'fizz', 34, 'buzz', 'fizz', 37, 38, 'fizz', 'buzz', 41, 'fizz', 43, 44, 'fizzbuzz', 46, 47, 'fizz', 49, 'buzz', 'fizz', 52, 53, 'fizz', 'buzz', 56, 'fizz', 58, 59, 'fizzbuzz', 61, 62, 'fizz', 64, 'buzz', 'fizz', 67, 68, 'fizz', 'buzz', 71, 'fizz', 73, 74, 'fizzbuzz', 76, 77, 'fizz', 79, 'buzz', 'fizz', 82, 83, 'fizz', 'buzz', 86, 'fizz', 88, 89, 'fizzbuzz', 91, 92, 'fizz', 94, 'buzz', 'fizz', 97, 98, 'fizz', 'buzz']\n"
     ]
    }
   ],
   "source": [
    "li = [i for i in range(1, 101)]\n",
    "for i in li:\n",
    "    if (i % 3) + (i % 5) == 0:\n",
    "        li[i-1] = 'fizzbuzz'\n",
    "    elif (i % 3) == 0:\n",
    "        li[i-1] = 'fizz'\n",
    "    elif (i % 5) == 0:\n",
    "        li[i-1] = 'buzz'\n",
    "    pass\n",
    "print(li)"
   ]
  },
  {
   "cell_type": "markdown",
   "metadata": {},
   "source": [
    "## For, while\n",
    "```python\n",
    "sum = 0\n",
    "for i in range(1,11):\n",
    "\tsum += i\n",
    "\tprint(sum)\n",
    "```\n",
    "---\n",
    "\n",
    "### List Comprehension\n",
    "```python\n",
    "result = [i for i in range(1,11)]\n",
    "print(result)\n",
    "```\n",
    "\n",
    "---"
   ]
  },
  {
   "cell_type": "markdown",
   "metadata": {},
   "source": [
    "## For, while\n",
    "```python\n",
    "while 조건:\n",
    "\t실행문1\n",
    "\t...\n",
    "```\n",
    "\n",
    "```python\n",
    "while name != \"foo bar\":\n",
    "\tname = input(\"What's your name? \")\n",
    "\tprint(\"Hi, \" + name + \"So, where is foo bar?\")\n",
    "```\n",
    "\n",
    "```python\n",
    "while 1:\n",
    "\tprint(\"Hello world!\")\n",
    "```\n",
    "\n",
    "\n",
    "---"
   ]
  },
  {
   "cell_type": "markdown",
   "metadata": {},
   "source": [
    "## Fizzbuzz\n",
    "\n",
    "```python\n",
    "num = eval(input(\"type the number: \"))\n",
    "\n",
    "for i in range(1, num):\n",
    "\tif i % 15 == 0:\n",
    "\t\tprint(\"fizzbuzz\")\n",
    "\telif i % 3 == 0:\n",
    "\t\tprint(\"fizz\")\n",
    "\telif i % 5 == 0:\n",
    "\t\tprint(\"buzz\")\n",
    "\telse:\n",
    "\t\tprint(i)\n",
    "```\n",
    "\n",
    "---\n",
    "\n",
    "## Refactoring numguess\n",
    "```python\n",
    "import random\n",
    "\n",
    "\n",
    "answer = random.randint(1,100)\n",
    "username = input(\"Hi there, What's your name?? \")\n",
    "\n",
    "while True:\n",
    "\tguess = eval(input(\"Hi, \"+ username + \"guess the \n",
    "    number: \"))\n",
    "\n",
    "\tif guess == answer:\n",
    "\t\tprint(\"Correct! The answer was \", \n",
    "        str(answer))\n",
    "\t\tbreak\n",
    "\telse:\n",
    "\t\tprint(\"That's not what I wanted!! \n",
    "        Try again!!\")\n",
    "```\n",
    "\n",
    "---\n",
    "## function\n",
    "![](https://upload.wikimedia.org/wikipedia/commons/thumb/d/df/Function_color_example_3.svg/440px-Function_color_example_3.svg.png)\n",
    "- 수학적 정의: 첫 번째 집합의 임의의 한 원소를 두 번째 집합의 오직 한 원소에 대응시키는 대응 관계\n",
    "- x: 정의역 y: 공역\n",
    "\n",
    "---\n",
    "## function\n",
    "![](https://upload.wikimedia.org/wikipedia/commons/thumb/3/3b/Function_machine2.svg/440px-Function_machine2.svg.png)\n",
    "- 프로그래밍에서의 함수: 입력값을 내부에서 어떤 처리를 통해 결과값을 출력하는 것\n",
    "\n",
    "---\n",
    "## function\n",
    "\n",
    "```python\n",
    "def function(parameter):\n",
    "\t실행문1\n",
    "\t실행문2\n",
    "\t...\n",
    "```\n",
    "\n",
    "---\n",
    "## Leap year\n",
    "4로 나뉘어 떨어지면 윤년,\n",
    "100으로 나뉘어 떨어지면 평년,\n",
    "400으로 나뉘어 떨어질땐 윤년\n",
    "\n",
    "---\n",
    "## Leap year(answer)\n",
    "```python\n",
    "\n",
    "def is_leap(y):\n",
    "\tleap = False\n",
    "\tif y % 4 == 0 and (y % 100 != 0 or y % 400 == 0)\n",
    "\t\tleap = True\n",
    "\treturn leap\n",
    "    \n",
    "y = int(input(\"Is leap?? \"))\n",
    "print(is_leap(y))\n",
    "\n",
    "```\n",
    "\n",
    "---\n",
    "## numguess with function\n",
    "\n",
    "```python\n",
    "def guesser(guess):\n",
    "\tif guess == answer:\n",
    "\t\tprint(\"Correct! The answer was \", str(answer))\n",
    "\t\tbreak\n",
    "\telse:\n",
    "\t\tprint(\"That's not what I wanted!! Try again!!\")\n",
    "```"
   ]
  },
  {
   "cell_type": "markdown",
   "metadata": {},
   "source": [
    "##### "
   ]
  }
 ],
 "metadata": {
  "kernelspec": {
   "display_name": "Python 3",
   "language": "python",
   "name": "python3"
  },
  "language_info": {
   "codemirror_mode": {
    "name": "ipython",
    "version": 3
   },
   "file_extension": ".py",
   "mimetype": "text/x-python",
   "name": "python",
   "nbconvert_exporter": "python",
   "pygments_lexer": "ipython3",
   "version": "3.6.1"
  }
 },
 "nbformat": 4,
 "nbformat_minor": 2
}
